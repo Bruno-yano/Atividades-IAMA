{
  "nbformat": 4,
  "nbformat_minor": 0,
  "metadata": {
    "colab": {
      "provenance": [],
      "authorship_tag": "ABX9TyPQmpkyAZyMcyjeh2HMpAjh",
      "include_colab_link": true
    },
    "kernelspec": {
      "name": "python3",
      "display_name": "Python 3"
    },
    "language_info": {
      "name": "python"
    }
  },
  "cells": [
    {
      "cell_type": "markdown",
      "metadata": {
        "id": "view-in-github",
        "colab_type": "text"
      },
      "source": [
        "<a href=\"https://colab.research.google.com/github/Bruno-yano/Atividades-IAMA/blob/main/Soja.ipynb\" target=\"_parent\"><img src=\"https://colab.research.google.com/assets/colab-badge.svg\" alt=\"Open In Colab\"/></a>"
      ]
    },
    {
      "cell_type": "code",
      "execution_count": 34,
      "metadata": {
        "id": "ThBuk4n8Ppfr"
      },
      "outputs": [],
      "source": [
        "import pathlib\n"
      ]
    },
    {
      "cell_type": "code",
      "source": [
        "# prompt: please generate code to load a folder in my google drive\n",
        "\n",
        "from google.colab import drive\n",
        "drive.mount('/content/drive')\n",
        "\n",
        "import os\n",
        "path = \"/content/drive/My Drive/Base_de_dados/Soja\" # replace with your folder path\n",
        "pathlib.Path(path)\n",
        "\n",
        "image_count = len(list(pathlib.Path(path).glob('*/*.jpg')))\n",
        "print(image_count)\n",
        "\n",
        "#define some parameters to the loader\n",
        "batch_size = 32\n",
        "img_height = 227\n",
        "img_width = 227"
      ],
      "metadata": {
        "id": "5XO37etTUbHW",
        "outputId": "2c2e892c-8e20-4e98-c039-7717b27998e0",
        "colab": {
          "base_uri": "https://localhost:8080/"
        }
      },
      "execution_count": 35,
      "outputs": [
        {
          "output_type": "stream",
          "name": "stdout",
          "text": [
            "Drive already mounted at /content/drive; to attempt to forcibly remount, call drive.mount(\"/content/drive\", force_remount=True).\n",
            "5513\n"
          ]
        }
      ]
    },
    {
      "cell_type": "code",
      "source": [],
      "metadata": {
        "id": "j1SUOQ9gUukn"
      },
      "execution_count": null,
      "outputs": []
    }
  ]
}